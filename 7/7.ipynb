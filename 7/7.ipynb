{
 "cells": [
  {
   "cell_type": "code",
   "execution_count": 38,
   "metadata": {},
   "outputs": [],
   "source": [
    "import cv2\n",
    "import numpy as np\n",
    "import os\n",
    "import random\n",
    "from matplotlib import pyplot as plt"
   ]
  },
  {
   "attachments": {},
   "cell_type": "markdown",
   "metadata": {},
   "source": [
    "Task 1"
   ]
  },
  {
   "cell_type": "code",
   "execution_count": 39,
   "metadata": {},
   "outputs": [],
   "source": [
    "path1 = './images'\n",
    "path2 = './labels'\n",
    "\n",
    "imgs = os.listdir(path1)\n",
    "masks = os.listdir(path2)\n",
    "\n",
    "imgs = list(map(lambda img: cv2.imread(path1 + '/' + img), imgs))\n",
    "masks = list(map(lambda mask: cv2.imread(path2 + '/' + mask), masks))\n"
   ]
  },
  {
   "cell_type": "code",
   "execution_count": null,
   "metadata": {},
   "outputs": [],
   "source": [
    "def rotate(img):\n",
    "    return img"
   ]
  },
  {
   "cell_type": "code",
   "execution_count": 40,
   "metadata": {},
   "outputs": [],
   "source": [
    "def imgs_gen(n = 1):\n",
    "\n",
    "    lst = [(imgs[i], masks[i]) for i in range(len(imgs))]\n",
    "\n",
    "    while True:\n",
    "\n",
    "        lst = random.sample(lst, len(lst))\n",
    "\n",
    "        lst1 = [lst[i][0] for i in range(n)]\n",
    "        lst2 = [lst[i][1] for i in range(n)]\n",
    "\n",
    "        option = random.randint(0, 3)\n",
    "\n",
    "        if option == 0:\n",
    "            for\n",
    "\n",
    "        yield lst1, lst2"
   ]
  },
  {
   "cell_type": "code",
   "execution_count": 41,
   "metadata": {},
   "outputs": [],
   "source": [
    "def change_index(lst, key, cur_index = 0):\n",
    "\n",
    "    if key == ord('1'):\n",
    "        cur_index += 1\n",
    "\n",
    "    elif key == ord('2'):\n",
    "        cur_index -= 1\n",
    "    \n",
    "    elif key == ord('q'):\n",
    "        return -2\n",
    "\n",
    "    else:\n",
    "        return -1\n",
    "\n",
    "    if cur_index < 0:\n",
    "        cur_index = len(lst) - 1\n",
    "\n",
    "    elif cur_index > len(lst) - 1:\n",
    "        cur_index = 0\n",
    "\n",
    "    return cur_index"
   ]
  },
  {
   "cell_type": "code",
   "execution_count": 42,
   "metadata": {},
   "outputs": [],
   "source": [
    "img_index = 0\n",
    "\n",
    "for lsts in imgs_gen(5):\n",
    "\n",
    "    imgs1, masks1 = lsts\n",
    "\n",
    "    while img_index >= 0:\n",
    "        \n",
    "        concat_imgs = [np.concatenate((imgs1[i], masks1[i]), axis = 1) for i in range(len(imgs1))]\n",
    "        cv2.imshow('Images', concat_imgs[img_index])\n",
    "\n",
    "        img_index = change_index(concat_imgs, cv2.waitKey(0), img_index)\n",
    "    \n",
    "    if img_index == -2:\n",
    "        break\n",
    "\n",
    "    img_index = 0\n",
    "\n",
    "cv2.destroyAllWindows()\n"
   ]
  }
 ],
 "metadata": {
  "kernelspec": {
   "display_name": "Python 3.10.7 64-bit",
   "language": "python",
   "name": "python3"
  },
  "language_info": {
   "codemirror_mode": {
    "name": "ipython",
    "version": 3
   },
   "file_extension": ".py",
   "mimetype": "text/x-python",
   "name": "python",
   "nbconvert_exporter": "python",
   "pygments_lexer": "ipython3",
   "version": "3.10.7 (tags/v3.10.7:6cc6b13, Sep  5 2022, 14:08:36) [MSC v.1933 64 bit (AMD64)]"
  },
  "orig_nbformat": 4,
  "vscode": {
   "interpreter": {
    "hash": "af874b8d4f4459788df716e07a9b2cbb6aef8352bcd428451245bb55fab53f6a"
   }
  }
 },
 "nbformat": 4,
 "nbformat_minor": 2
}
