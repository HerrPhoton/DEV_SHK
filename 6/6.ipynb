{
 "cells": [
  {
   "cell_type": "code",
   "execution_count": 1,
   "metadata": {},
   "outputs": [],
   "source": [
    "import cv2\n",
    "import numpy as np\n",
    "import os\n",
    "import time\n",
    "from matplotlib import pyplot as plt"
   ]
  },
  {
   "cell_type": "markdown",
   "metadata": {},
   "source": [
    "Task 1"
   ]
  },
  {
   "cell_type": "code",
   "execution_count": null,
   "metadata": {},
   "outputs": [],
   "source": [
    "path1 = './images'\n",
    "path2 = './labels'\n",
    "\n",
    "imgs = os.listdir(path1)\n",
    "masks = os.listdir(path2)\n",
    "\n",
    "imgs = list(map(lambda img: cv2.imread(path1 + '/' + img), imgs))\n",
    "masks = list(map(lambda mask: cv2.imread(path2 + '/' + mask, 0), masks))\n",
    "\n",
    "res = [cv2.bitwise_and(imgs[i], imgs[i], mask = masks[i]) for i in range(len(imgs))]"
   ]
  },
  {
   "cell_type": "code",
   "execution_count": null,
   "metadata": {},
   "outputs": [],
   "source": [
    "def change_index(key, cur_index = 0):\n",
    "\n",
    "    if key == ord('1'):\n",
    "        cur_index += 1\n",
    "\n",
    "    elif key == ord('2'):\n",
    "        cur_index -= 1\n",
    "\n",
    "    else:\n",
    "        return -1\n",
    "\n",
    "    if cur_index < 0:\n",
    "        cur_index = len(res) - 1\n",
    "\n",
    "    elif cur_index > len(res) - 1:\n",
    "        cur_index = 0\n",
    "\n",
    "    return cur_index\n",
    "    "
   ]
  },
  {
   "cell_type": "markdown",
   "metadata": {},
   "source": [
    "Task 2"
   ]
  },
  {
   "cell_type": "code",
   "execution_count": null,
   "metadata": {},
   "outputs": [],
   "source": [
    "concat_imgs = [np.concatenate((imgs[i], res[i]), axis = 1) for i in range(len(imgs))]\n",
    "img_index = 0\n",
    "\n",
    "while True:\n",
    "    \n",
    "    cv2.imshow('Mask', concat_imgs[img_index])\n",
    "\n",
    "    img_index = change_index(cv2.waitKey(0), img_index)\n",
    "    if img_index == -1:\n",
    "        break\n",
    "\n",
    "cv2.destroyAllWindows()"
   ]
  },
  {
   "cell_type": "markdown",
   "metadata": {},
   "source": [
    "Task 3"
   ]
  },
  {
   "cell_type": "code",
   "execution_count": null,
   "metadata": {},
   "outputs": [],
   "source": [
    "def make_contour(index):\n",
    "    \n",
    "    _, bin = cv2.threshold(masks[index], 0, 255, cv2.THRESH_BINARY)\n",
    "    contours, _ = cv2.findContours(bin, cv2.RETR_TREE, cv2.CHAIN_APPROX_SIMPLE)\n",
    "\n",
    "    return cv2.drawContours(imgs[index], contours, -1, (0, 255, 0), 2)\n",
    "\n",
    "\n",
    "res = [make_contour(i) for i in range(len(imgs))]\n",
    "img_index = 0\n",
    "\n",
    "while True:\n",
    "\n",
    "    cv2.imshow('Contours', res[img_index])\n",
    "\n",
    "    img_index = change_index(cv2.waitKey(0), img_index)\n",
    "    if img_index == -1:\n",
    "        break\n",
    "\n",
    "cv2.destroyAllWindows()"
   ]
  },
  {
   "cell_type": "markdown",
   "metadata": {},
   "source": [
    "Task 4"
   ]
  },
  {
   "cell_type": "code",
   "execution_count": null,
   "metadata": {},
   "outputs": [],
   "source": [
    "cap = cv2.VideoCapture('data/highway_traffic.mp4')\n",
    "\n",
    "while True:\n",
    "\n",
    "\tret, frame = cap.read()\n",
    "\tif not ret:\n",
    "\t\tbreak\n",
    " \n",
    "\tcv2.imshow(\"Video\", cv2.cvtColor(frame, cv2.COLOR_BGR2GRAY))\n",
    "\n",
    "\tkey = cv2.waitKey(10)\n",
    "\tif key == ord(\"q\"):\n",
    "\t\tbreak\n",
    "\n",
    "cap.release()\n",
    "cv2.destroyAllWindows()\n"
   ]
  },
  {
   "cell_type": "markdown",
   "metadata": {},
   "source": [
    "Laboratory"
   ]
  },
  {
   "cell_type": "code",
   "execution_count": null,
   "metadata": {},
   "outputs": [],
   "source": [
    "tic = time.perf_counter()\n",
    "is_red = False\n",
    "\n",
    "cap = cv2.VideoCapture(0)\n",
    "prev_frame = None\n",
    "\n",
    "while True:\t\n",
    "\n",
    "    ret, cur_img = cap.read()\t\n",
    "    \n",
    "    if not ret:\n",
    "        break\n",
    "    \n",
    "    prepared_img = cv2.cvtColor(cur_img, cv2.COLOR_BGR2GRAY)\n",
    "    prepared_img = cv2.GaussianBlur(prepared_img, ksize = (5, 5), sigmaX = 0)\n",
    "\n",
    "    if time.perf_counter() - tic >= 10:\n",
    "\n",
    "        tic = time.perf_counter()\n",
    "        is_red = not is_red\n",
    "        prev_frame = None\n",
    "\n",
    "    if is_red == True:\n",
    "        \n",
    "        if prev_frame is None:\n",
    "            prev_frame = prepared_img\n",
    "            continue\n",
    "\n",
    "        diff = cv2.absdiff(prev_frame, prepared_img)\n",
    "        prev_frame = prepared_img\n",
    "\n",
    "        kernel = np.ones((5, 5))    \n",
    "        diff = cv2.dilate(diff, kernel, 1)\n",
    "\n",
    "        _, thresh_frame = cv2.threshold(diff, 20, 255, cv2.THRESH_BINARY)\n",
    "        contours, _ = cv2.findContours(thresh_frame, cv2.RETR_TREE, cv2.CHAIN_APPROX_SIMPLE)\n",
    "\n",
    "        if not contours:\n",
    "\n",
    "            _, thresh_frame = cv2.threshold(prepared_img, 50, 255, cv2.THRESH_BINARY)\n",
    "            contours, _ = cv2.findContours(thresh_frame, cv2.RETR_TREE, cv2.CHAIN_APPROX_SIMPLE)\n",
    "            cv2.drawContours(cur_img, contours, -1, (0, 255, 0), 2)\n",
    "\n",
    "        else:         \n",
    "            cv2.drawContours(cur_img, contours, -1, (0, 0, 255), 2)\n",
    "\n",
    "        cv2.putText(cur_img, 'Red Light', (10, 25), cv2.FONT_HERSHEY_SIMPLEX, 1, (0, 0, 255), 2)\n",
    "\n",
    "    else:\n",
    "        cv2.putText(cur_img, 'Green Light', (10, 25), cv2.FONT_HERSHEY_SIMPLEX, 1, (0, 255, 0), 2)\n",
    "\n",
    "    cv2.imshow(\"Frame\", cur_img)\n",
    "    \n",
    "    key = cv2.waitKey(1)\n",
    "    if key == ord(\"q\"):\n",
    "\t    break\n",
    "\n",
    "\n",
    "cap.release()\n",
    "cv2.destroyAllWindows()"
   ]
  }
 ],
 "metadata": {
  "kernelspec": {
   "display_name": "Python 3.10.7 64-bit",
   "language": "python",
   "name": "python3"
  },
  "language_info": {
   "codemirror_mode": {
    "name": "ipython",
    "version": 3
   },
   "file_extension": ".py",
   "mimetype": "text/x-python",
   "name": "python",
   "nbconvert_exporter": "python",
   "pygments_lexer": "ipython3",
   "version": "3.10.7 (tags/v3.10.7:6cc6b13, Sep  5 2022, 14:08:36) [MSC v.1933 64 bit (AMD64)]"
  },
  "orig_nbformat": 4,
  "vscode": {
   "interpreter": {
    "hash": "af874b8d4f4459788df716e07a9b2cbb6aef8352bcd428451245bb55fab53f6a"
   }
  }
 },
 "nbformat": 4,
 "nbformat_minor": 2
}
